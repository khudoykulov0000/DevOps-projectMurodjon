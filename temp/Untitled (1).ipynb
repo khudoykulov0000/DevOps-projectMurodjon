{
 "cells": [
  {
   "cell_type": "markdown",
   "id": "71d6fe17-05f9-4be0-8d38-4090c6a53164",
   "metadata": {},
   "source": [
    "Console.Writeline(\"привет всем!\")"
   ]
  },
  {
   "cell_type": "markdown",
   "id": "1b1ceb2a-a087-4258-be48-871798eb13a9",
   "metadata": {},
   "source": [
    "# Задача N1\n"
   ]
  },
  {
   "cell_type": "markdown",
   "id": "66e669e9-d1d5-412b-94c4-20cb896d4f63",
   "metadata": {},
   "source": [
    "##Условие #"
   ]
  },
  {
   "cell_type": "markdown",
   "id": "ffa49d15-0fca-4c5c-ab12-3f487336e5da",
   "metadata": {},
   "source": [
    "$ f(x)=2\\cdot x^2 $ "
   ]
  },
  {
   "cell_type": "markdown",
   "id": "00c8da99-b173-4424-bd39-09b662f94e2e",
   "metadata": {},
   "source": [
    "$ \\frac{c2+x}{1-y} $"
   ]
  },
  {
   "cell_type": "markdown",
   "id": "34e606c1-a804-43bb-b1db-08626f48dc81",
   "metadata": {},
   "source": [
    "N|ФИО|Оклад\n",
    "-----|-----|-----\n",
    "1|петр|25000\n",
    "2|сардор|28000"
   ]
  },
  {
   "cell_type": "markdown",
   "id": "8a146b68-bbc4-494a-bf30-5e0e3d9afbc3",
   "metadata": {},
   "source": [
    "$ a_i $"
   ]
  },
  {
   "cell_type": "markdown",
   "id": "08d2f429-7509-4fa3-9cea-a62295f4c69a",
   "metadata": {},
   "source": [
    " $ a_{i+1} $"
   ]
  },
  {
   "cell_type": "markdown",
   "id": "b0f5d298-cf0a-4016-8933-6e8670b44b68",
   "metadata": {},
   "source": [
    "$ \\lim \\limits_{x \\to \\infty} \\exp(-x)=0 $"
   ]
  },
  {
   "cell_type": "markdown",
   "id": "7ee11b8f-13d2-4ae8-a55b-9082cb9aad79",
   "metadata": {},
   "source": [
    "$ \\sqrt{(1-x^2)} $\n",
    "$ sqrt[3]{(1-x^5} $\n",
    "$ sum_{i-1}^n{a_i} $\n",
    "$ int_a^b {f(x) d_cx} $"
   ]
  },
  {
   "cell_type": "markdown",
   "id": "26b03372-16dc-42f2-b230-a82ec10d0a79",
   "metadata": {},
   "source": [
    "найти $ \\sum_{i=0}^{10} a_i $\n",
    "где $ a_i= \\frac {1} {i+1} $"
   ]
  },
  {
   "cell_type": "code",
   "execution_count": null,
   "id": "6c0d8ab2-8cc3-45b0-af23-3d860f8c2892",
   "metadata": {},
   "outputs": [],
   "source": [
    "double s=0\n",
    "for  (int i=0; i<=10; i==) \n",
    "{\n",
    "double  ai=1.0/ (i=1.0) \n",
    "S+=ai;   \n",
    "}\n",
    "Console.WriteLine( $ \"i= {i} S={s}\"); "
   ]
  },
  {
   "cell_type": "markdown",
   "id": "e6f6050a-d389-4aeb-8c1c-bb2223b4c3d9",
   "metadata": {},
   "source": [
    "# Задачe # "
   ]
  },
  {
   "cell_type": "markdown",
   "id": "92e1b8ae-f87c-421a-b709-3a1731504b94",
   "metadata": {},
   "source": [
    "Найти $ a_25 $, где $ a_k=(a_{k-1}) {2} $\n"
   ]
  },
  {
   "cell_type": "markdown",
   "id": "80918a5a-2fbb-455f-ac34-1e9c3cc18870",
   "metadata": {},
   "source": [
    "$ \\frac(k=2<=25;k $\n",
    "$ ak=(ak1+ak2)/2 $\n",
    "$ ak2=ak1 $\n",
    "$ ak1=ak $"
   ]
  },
  {
   "cell_type": "code",
   "execution_count": null,
   "id": "24ea9e99-8bb9-43a3-b02f-bf20213423b3",
   "metadata": {},
   "outputs": [],
   "source": []
  }
 ],
 "metadata": {
  "kernelspec": {
   "display_name": ".NET (C#)",
   "language": "C#",
   "name": ".net-csharp"
  },
  "language_info": {
   "file_extension": ".cs",
   "mimetype": "text/x-csharp",
   "name": "C#",
   "pygments_lexer": "csharp",
   "version": "9.0"
  }
 },
 "nbformat": 4,
 "nbformat_minor": 5
}
